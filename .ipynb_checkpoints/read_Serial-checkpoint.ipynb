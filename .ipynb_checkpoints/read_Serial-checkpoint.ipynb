{
 "cells": [
  {
   "cell_type": "markdown",
   "metadata": {},
   "source": [
    "Universidade Federal do Rio Grande do Sul (UFRGS)   \n",
    "Programa de Pós-Graduação em Engenharia Civil (PPGEC)   \n",
    "\n",
    "# PEC00144: Experimental Methods in Civil Engineering\n",
    "\n",
    "### Reading the serial port of an Arduino device  \n",
    "\n",
    "---\n",
    "_Prof. Marcelo M. Rocha, Dr.techn._ [(ORCID)](https://orcid.org/0000-0001-5640-1020)  \n",
    "_Porto Alegre, RS, Brazil_ \n"
   ]
  },
  {
   "cell_type": "code",
   "execution_count": 125,
   "metadata": {},
   "outputs": [],
   "source": [
    "# Importing Python modules required for this notebook\n",
    "# (this cell must be executed with \"shift+enter\" before any other Python cell)\n",
    "\n",
    "import sys\n",
    "import time\n",
    "import serial\n",
    "import numpy as np\n",
    "import pandas as pd\n",
    "import matplotlib.pyplot as plt\n",
    "from   MRPy  import MRPy\n",
    "\n",
    "#Ardn.close()\n"
   ]
  },
  {
   "cell_type": "markdown",
   "metadata": {},
   "source": [
    "### 1. Setup serial communication\n",
    "\n",
    "In order to run this notebook, the Python module ``pyserial`` must be installed.\n",
    "To ensure the module availability, open a conda terminal and issue the command:\n",
    "\n",
    "    conda install -c anaconda pyserial\n",
    "\n",
    "Before openning the serial port, verify with Arduino IDE which USB identifier the \n",
    "board has be assigned (in Windows it has the form \"COMxx\", while in Linux it\n",
    "it is something like \"/dev/ttyXXXX\").\n"
   ]
  },
  {
   "cell_type": "code",
   "execution_count": 126,
   "metadata": {},
   "outputs": [],
   "source": [
    "#port  = '/dev/ttyUSB0' \n",
    "#baud  =  9600\n",
    "\n",
    "port   = 'COM3'           # change this address according to your computer\n",
    "baud   =  115200          # match this number with the Arduino's output baud rate\n",
    "\n",
    "Ardn  =  serial.Serial(port, baud, timeout=1)\n",
    "\n",
    "time.sleep(3)             # this is important to give time for serial settling\n"
   ]
  },
  {
   "cell_type": "markdown",
   "metadata": {},
   "source": [
    "### 2. Define function for reading one incoming line"
   ]
  },
  {
   "cell_type": "code",
   "execution_count": 127,
   "metadata": {},
   "outputs": [],
   "source": [
    "def ReadSerial(nchar, nvar, nlines=1):\n",
    "\n",
    "    Ardn.write(str(nlines).encode())\n",
    "    data = np.zeros((nlines,nvar))\n",
    "\n",
    "    for k in range(nlines):\n",
    "        \n",
    "        wait = True\n",
    "        while(wait):\n",
    "          \n",
    "            if (Ardn.inWaiting() >= nchar):\n",
    "                bdat = Ardn.readline() \n",
    "                sdat = bdat.decode()\n",
    "                sdat = sdat.replace('\\n',' ').split()\n",
    "                wait = False\n",
    "            \n",
    "                data[k, :] = np.array(sdat[0:nvar], dtype='int')\n",
    "        \n",
    "    return data\n"
   ]
  },
  {
   "cell_type": "markdown",
   "metadata": {},
   "source": [
    "### 3. Acquire data lines from serial port"
   ]
  },
  {
   "cell_type": "code",
   "execution_count": 128,
   "metadata": {},
   "outputs": [
    {
     "name": "stdout",
     "output_type": "stream",
     "text": [
      "Acquisition ok!\n"
     ]
    }
   ],
   "source": [
    "try:\n",
    "    data = ReadSerial(30, 4, nlines=2048)\n",
    "    t    = data[:,0 ]\n",
    "    dat  = data[:,1:]\n",
    "\n",
    "    Ardn.close()\n",
    "    print('Acquisition ok!')\n",
    "    \n",
    "except:\n",
    "    Ardn.close()\n",
    "    sys.exit('Acquisition failure!')\n"
   ]
  },
  {
   "cell_type": "markdown",
   "metadata": {},
   "source": [
    "### 4. Create ``MRPy`` instance and save to file "
   ]
  },
  {
   "cell_type": "code",
   "execution_count": 130,
   "metadata": {},
   "outputs": [
    {
     "name": "stdout",
     "output_type": "stream",
     "text": [
      "Average sampling rate is 368.0Hz.\n",
      "[-8.53809211e-19 -9.21571847e-19  1.06143393e-16]\n"
     ]
    }
   ],
   "source": [
    "ti  = (t - t[0])/1000\n",
    "A   =  dat/(2**14) \n",
    "\n",
    "data = MRPy.resampling(ti, A)\n",
    "data.to_file('Arduino/ReadSerial', form='excel')\n",
    "\n",
    "print('Average sampling rate is {0:5.1f}Hz.'.format(data.fs))\n",
    "\n",
    "print(data.mean(axis=1))"
   ]
  },
  {
   "cell_type": "markdown",
   "metadata": {},
   "source": [
    "### 5. Data visualization"
   ]
  },
  {
   "cell_type": "code",
   "execution_count": 131,
   "metadata": {},
   "outputs": [
    {
     "data": {
      "image/png": "[encoded data removed]",
      "text/plain": [
       "<Figure size 864x576 with 3 Axes>"
      ]
     },
     "metadata": {
      "needs_background": "light"
     },
     "output_type": "display_data"
    }
   ],
   "source": [
    "fig1 = data.plot_time(fig=1, figsize=(12,8), axis_t=[0, data.Td, -2, 2])\n"
   ]
  },
  {
   "cell_type": "code",
   "execution_count": null,
   "metadata": {},
   "outputs": [],
   "source": [
    "fig1 = data.plot_freq(fig=1, figsize=(12,8), axis_f=[0, data.fs/2, 0, 0.02])"
   ]
  },
  {
   "cell_type": "code",
   "execution_count": null,
   "metadata": {},
   "outputs": [],
   "source": []
  }
 ],
 "metadata": {
  "kernelspec": {
   "display_name": "Python 3",
   "language": "python",
   "name": "python3"
  },
  "language_info": {
   "codemirror_mode": {
    "name": "ipython",
    "version": 3
   },
   "file_extension": ".py",
   "mimetype": "text/x-python",
   "name": "python",
   "nbconvert_exporter": "python",
   "pygments_lexer": "ipython3",
   "version": "3.8.3"
  }
 },
 "nbformat": 4,
 "nbformat_minor": 2
}
