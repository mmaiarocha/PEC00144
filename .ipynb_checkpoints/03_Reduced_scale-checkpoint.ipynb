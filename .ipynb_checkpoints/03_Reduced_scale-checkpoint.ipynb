{
 "cells": [
  {
   "cell_type": "markdown",
   "metadata": {},
   "source": [
    "Universidade Federal do Rio Grande do Sul (UFRGS)   \n",
    "Programa de Pós-Graduação em Engenharia Civil (PPGEC)   \n",
    "\n",
    "# PEC00144: Experimental Methods in Civil Engineering\n",
    "\n",
    "\n",
    "### Part I: Analysis\n",
    "[2.   Design of reduced scale models](#section_2)   \n",
    "\n",
    "&nbsp;&nbsp;&nbsp;[2.1. Controlled and derived scales](#section_21)   \n",
    "&nbsp;&nbsp;&nbsp;[2.2. Example: elastic beam under self weight](#section_22)   \n",
    "&nbsp;&nbsp;&nbsp;[2.3. Example: cable catenary](#section_23)   \n",
    "&nbsp;&nbsp;&nbsp;[2.4. Assignment](#section_24)   \n",
    "\n",
    "---\n",
    "_Prof. Marcelo M. Rocha, Dr.techn._ [(ORCID)](https://orcid.org/0000-0001-5640-1020)  \n",
    "_Porto Alegre, RS, Brazil_ \n"
   ]
  },
  {
   "cell_type": "code",
   "execution_count": 1,
   "metadata": {
    "scrolled": false
   },
   "outputs": [
    {
     "name": "stdout",
     "output_type": "stream",
     "text": [
      "                       descriptor   latex  L  M  T\n",
      "a                    Acceleration       a  1  0 -2\n",
      "α            Angular acceleration  \\alpha  0  0 -2\n",
      "ω               Angular frequency  \\omega  0  0 -1\n",
      "A                            Area       A  2  0  0\n",
      "EA                Axial stiffness      EA  1  1 -2\n",
      "EI         Beam bending stiffness      EI  3  1 -2\n",
      "GAs          Beam shear stiffness    GA_s  1  1 -2\n",
      "ρ                         Density    \\rho -3  1  0\n",
      "μ               Dynamic viscosity     \\mu -1  1 -1\n",
      "F                           Force       F  1  1 -2\n",
      "q           Force per unit length       q  0  1 -2\n",
      "f                       frequency       f  0  0 -1\n",
      "υ             Kinematic viscosity     \\nu  2  0 -1\n",
      "L                          Length       L  1  0  0\n",
      "m                            Mass       m  0  1  0\n",
      "im   Mass inertia per unit length     i_m  1  1  0\n",
      "μA             Mass per unit area   \\mu_A -2  1  0\n",
      "μL           Mass per unit length   \\mu_L -1  1  0\n",
      "M                          Moment       M  2  1 -2\n",
      "I               Moment of inertia       I  4  0  0\n",
      "W               Resistent modulus       W  3  0  0\n",
      "Im        Rotational mass inertia     I_m  2  1  0\n",
      "k                Spring stiffness       k  0  1 -2\n",
      "σ                          Stress  \\sigma -1  1 -2\n",
      "t                            Time       t  0  0  1\n",
      "v                        Velocity       v  1  0 -1\n",
      "c                 Viscous damping       c  0  1 -1\n",
      "V                          Volume       V  3  0  0\n"
     ]
    }
   ],
   "source": [
    "# Importing Python modules required for this notebook\n",
    "# (this cell must be executed with \"shift+enter\" before any other Python cell)\n",
    "\n",
    "import numpy as np\n",
    "import pandas as pd\n",
    "import matplotlib.pyplot as plt\n",
    "\n",
    "# Importing pandas dataframe with dimension exponents for relevant quantities\n",
    "\n",
    "DimData = pd.read_excel('resources/DimData.xlsx', \n",
    "                         index_col  =  0,\n",
    "                         header     =  0,\n",
    "                         sheet_name = 'DimData')\n",
    "\n",
    "print(DimData)\n"
   ]
  },
  {
   "cell_type": "markdown",
   "metadata": {},
   "source": [
    "## 2. Design of reduced scale models <a name=\"section_2\"></a> \n",
    "\n",
    "### 2.1. Controlled and uncontrolled quantities  <a name=\"section_21\"></a> \n",
    "\n"
   ]
  },
  {
   "cell_type": "markdown",
   "metadata": {},
   "source": [
    "### 2.2. Example: elastic beam under self-weight  <a name=\"section_22\"></a> \n",
    "\n",
    "Let us design a reduced model for a reinforced concrete simply supported beam, as depicted below. \n",
    "The total span is $L = 10$m and other relevant quantities are:\n",
    "\n",
    "* Rectangular cross section:    \n",
    "  $B\\times H = 0.2 \\times 0.5{\\rm m}$    \n",
    "  Hence the section properties are:    \n",
    "  $A = 0.1{\\rm m}^2$ e $I = 0.002083 {\\rm m}^4$ <br>\n",
    "* Density of reinforced concrete:    \n",
    "  $\\rho = 2500 {\\rm kg/m}^3$    \n",
    "  Hence the mass per unit length is:    \n",
    "  $\\mu_L = \\rho A = 2500 \\times 0.1 = 250{\\rm kg/m}$ <br>\n",
    "* Young's modulus for concrete:    \n",
    "  $E_{\\rm c} = 30 \\times 10^{9} {\\rm N/m}^2$   \n",
    "  Hence the flexural stiffness is:    \n",
    "  $E_{\\rm c}I = 62.5\\times 10^6 {\\rm Nm}^2$\n",
    "\n",
    "<img src=\"resources/SimpleBeam.png\" alt=\"SimpleBeam\" width=\"480px\"/>\n",
    "\n",
    "We wish to measure the maximum displacement at beam center, $w_{\\rm max}$ caused by\n",
    "self weight. The theoretical formula for this displacement is:\n",
    "\n",
    "$$ w_{\\rm max} = \\frac{5}{384} \\frac{q L^4}{EI} $$\n",
    "\n",
    "wherer $q = \\mu_L G$, with $G \\approx 9.81{m/s^2}$.\n",
    "Replacing values gives:"
   ]
  },
  {
   "cell_type": "code",
   "execution_count": 2,
   "metadata": {},
   "outputs": [
    {
     "name": "stdout",
     "output_type": "stream",
     "text": [
      "Theoretical displacement at beam center is  5.11mm\n"
     ]
    }
   ],
   "source": [
    "B  = 0.2\n",
    "H  = 0.5\n",
    "L  = 10.\n",
    "ρ  = 2500.\n",
    "g  = 9.81\n",
    "E  = 3.e10\n",
    "\n",
    "A  = B*H\n",
    "I  = B*(H**3)/12\n",
    "EI = E*I\n",
    "μL = ρ*A\n",
    "q  = μL*g\n",
    "\n",
    "w_max = (5/384)*q*(L**4)/EI\n",
    "\n",
    "print('Theoretical displacement at beam center is {0:5.2f}mm'.format(1000*w_max))"
   ]
  },
  {
   "cell_type": "markdown",
   "metadata": {},
   "source": [
    "The theoretical formula indicates that the governing quantities are the mass per unit length\n",
    "(or the distributed load) and the flexural stiffness.\n",
    "\n",
    "Let us now design a reduced scale model. The length scale is chosen as 1m:10m, \n",
    "while the acceleration scale must be assumed to be 1G:1G, for the model will be \n",
    "tested under the same gravity. \n",
    "Let us further assume that our model will be built with aluminum, what implies that\n",
    "the Young's modulus has as a 71GPa:30GPa scale, which is the same as the stress scale.\n",
    "\n",
    "The resulting new base is then:"
   ]
  },
  {
   "cell_type": "code",
   "execution_count": 3,
   "metadata": {},
   "outputs": [
    {
     "name": "stdout",
     "output_type": "stream",
     "text": [
      "   L  M  T\n",
      "L  1  0  0\n",
      "a  1  0 -2\n",
      "σ -1  1 -2 \n",
      "\n",
      " [[ 1.   0.   0. ]\n",
      " [ 2.  -1.   1. ]\n",
      " [ 0.5 -0.5 -0. ]]\n"
     ]
    }
   ],
   "source": [
    "ABC    = ['L', 'a', 'σ']           # selected quantities for the new base\n",
    "LMT    = ['L', 'M', 'T']           # dimensions are the last 3 columns of DimData \n",
    "base   =  DimData.loc[ABC, LMT]    # the dimensional matrix\n",
    "i_base =  np.linalg.inv(base)      # base inversion \n",
    "\n",
    "print(base, '\\n\\n', i_base) "
   ]
  },
  {
   "cell_type": "markdown",
   "metadata": {},
   "source": [
    "The scales for the quantities adopted for the new base are:"
   ]
  },
  {
   "cell_type": "code",
   "execution_count": 4,
   "metadata": {},
   "outputs": [],
   "source": [
    "λ_L    =  1/10         # length scale for the reduced model\n",
    "λ_a    =  1/1          # acceleration remains unchanged (same gravity)\n",
    "λ_σ    = 71/30         # model built with aluminum instead of concrete"
   ]
  },
  {
   "cell_type": "markdown",
   "metadata": {},
   "source": [
    "Now we calculate the scales for further quantities that are relevant to build \n",
    "the reduced model and interpreting results.\n",
    "They could be force, $F$, distributed load, $q$, the beam cross section flexural stiffness, \n",
    "$EI$, and the mass per unit length, $\\mu_L$.\n",
    "The calculations are carried out as explained in [Class 2](https://nbviewer.jupyter.org/github/mmaiarocha/PEC00144/blob/master/2_Dimensional_analysis.ipynb). Firstly we prepare\n",
    "the dimensional matrix for the selected quantities:"
   ]
  },
  {
   "cell_type": "code",
   "execution_count": 5,
   "metadata": {},
   "outputs": [
    {
     "name": "stdout",
     "output_type": "stream",
     "text": [
      "    L  M  T\n",
      "F   1  1 -2\n",
      "q   0  1 -2\n",
      "EI  3  1 -2\n",
      "μL -1  1  0\n",
      "ρ  -3  1  0\n"
     ]
    }
   ],
   "source": [
    "par    = ['F', 'q', 'EI', 'μL', 'ρ']         # selected scales to be calculated\n",
    "npar   =  len(par)                           # number of quantities\n",
    "DimMat =  DimData.loc[par, LMT]              # the dimensional matrix\n",
    "\n",
    "print(DimMat)"
   ]
  },
  {
   "cell_type": "markdown",
   "metadata": {},
   "source": [
    "Then we change the base for the dimensional matrix:"
   ]
  },
  {
   "cell_type": "code",
   "execution_count": 6,
   "metadata": {},
   "outputs": [
    {
     "name": "stdout",
     "output_type": "stream",
     "text": [
      "      L    a    σ\n",
      "F   2.0  0.0  1.0\n",
      "q   1.0  0.0  1.0\n",
      "EI  4.0  0.0  1.0\n",
      "μL  1.0 -1.0  1.0\n",
      "ρ  -1.0 -1.0  1.0\n"
     ]
    }
   ],
   "source": [
    "scales =  np.tile([λ_L, λ_a, λ_σ],(npar,1))  # prepare for calculations\n",
    "\n",
    "NewMat =  pd.DataFrame(data    = np.matmul(DimMat.values, i_base),\n",
    "                       index   = DimMat.index,\n",
    "                       columns = ABC)\n",
    "print(NewMat)"
   ]
  },
  {
   "cell_type": "markdown",
   "metadata": {},
   "source": [
    "And finally we calculate the corresponding scales:"
   ]
  },
  {
   "cell_type": "code",
   "execution_count": 7,
   "metadata": {},
   "outputs": [
    {
     "name": "stdout",
     "output_type": "stream",
     "text": [
      "Force:                   λ_F  =  1:   42.25 \n",
      "Distributed load:        λ_q  =  1:    4.23 \n",
      "Flexural stiffness:      λ_EI =  1: 4225 \n",
      "Mass per unit length:    λ_μL =  1:    4.23 \n",
      "Density (!!!):         1/λ_ρ  = 24:    1\n"
     ]
    }
   ],
   "source": [
    "[λ_F, λ_q, λ_EI, λ_μL, λ_ρ]  = np.prod(scales**NewMat, axis=1)\n",
    "\n",
    "print('Force:                   λ_F  =  1:   {0:5.2f}'.format(1/λ_F),  '\\n'\n",
    "      'Distributed load:        λ_q  =  1:   {0:5.2f}'.format(1/λ_q),  '\\n'\n",
    "      'Flexural stiffness:      λ_EI =  1:{0:5.0f}'.format(1/λ_EI), '\\n'\n",
    "      'Mass per unit length:    λ_μL =  1:   {0:5.2f}'.format(1/λ_μL), '\\n'\n",
    "      'Density (!!!):         1/λ_ρ  = {0:2.0f}:    1'.format(λ_ρ))\n"
   ]
  },
  {
   "cell_type": "markdown",
   "metadata": {},
   "source": [
    "Now we must calculate the dimensions of the aluminum beam that will give the required\n",
    "flexural stiffness:\n",
    "\n",
    "$$ EI = λ_{EI} \\cdot E_{\\rm c}I $$\n",
    "\n",
    "If we chose a rectangular section with dimensions $b\\times h$:\n",
    "\n",
    "\\begin{align*}\n",
    " EI &= E \\; \\frac{b h^3}{12} \\\\\n",
    " b  &= \\frac{12 EI}{E h^3}\n",
    "\\end{align*}\n",
    "\n",
    "The suitable section could be an aluminum bar with height $h = 5$cm (one tenth of\n",
    "the concrete beam height). \n",
    "Recalling that aluminum Young's modulus is 71GPa and aluminum density is 2700kg/m³\n",
    "results in:"
   ]
  },
  {
   "cell_type": "code",
   "execution_count": 8,
   "metadata": {},
   "outputs": [
    {
     "name": "stdout",
     "output_type": "stream",
     "text": [
      "Model required flexural stiffness:    14792Nm^2 \n",
      "Width of aluminum bar:                20.0mm \n",
      "Self weight of chosen aluminum strip: 2.70kg/m\n"
     ]
    }
   ],
   "source": [
    "EIM = λ_EI * EI\n",
    "bM  = 12*EIM/(71e9*0.05**3)\n",
    "μLM = 2700*0.05*bM\n",
    "\n",
    "print('Model required flexural stiffness:    {0:4.0f}Nm^2'.format(EIM),  '\\n'\n",
    "      'Width of aluminum bar:                {0:4.1f}mm'.format(1000*bM), '\\n'\n",
    "      'Self weight of chosen aluminum strip: {0:4.2f}kg/m'.format(μLM))"
   ]
  },
  {
   "cell_type": "markdown",
   "metadata": {},
   "source": [
    "The calculated width shows that the correct section respects the length scale. \n",
    "However, taking a look at the model self weight as required from the derived scale gives:"
   ]
  },
  {
   "cell_type": "code",
   "execution_count": 9,
   "metadata": {},
   "outputs": [
    {
     "name": "stdout",
     "output_type": "stream",
     "text": [
      "Required model self weight is 59.17kg/m\n"
     ]
    }
   ],
   "source": [
    "μLM = λ_μL * μL\n",
    "\n",
    "print('Required model self weight is {0:4.2f}kg/m'.format(μLM))"
   ]
  },
  {
   "cell_type": "markdown",
   "metadata": {},
   "source": [
    "One can see that the correct aluminum bar self weight is far from being reached. \n",
    "An aditional distributed mass of almost 60kg/m (!!!) must be attached to the model, otherwise the central displacement will not respect the length scale.\n",
    "This is not an easy practical task, for the attached mass _must not change the flexural \n",
    "stiffness_!\n",
    "\n",
    "If the additional mass can be included, the model central displacement results:"
   ]
  },
  {
   "cell_type": "code",
   "execution_count": 10,
   "metadata": {},
   "outputs": [
    {
     "name": "stdout",
     "output_type": "stream",
     "text": [
      "Expected model displacement at beam center is 0.511mm\n"
     ]
    }
   ],
   "source": [
    "w_max = (5/384)*μLM*g*(1.0**4)/EIM;    \n",
    "\n",
    "print('Expected model displacement at beam center is {0:5.3f}mm'.format(1000*w_max))"
   ]
  },
  {
   "cell_type": "markdown",
   "metadata": {},
   "source": [
    "So the displacement respects the 1:10 length scale, as expected. \n",
    "\n",
    "The above example illustrates how difficult it is to design structural models that accounts \n",
    "for gravity in a 1:1 scale. These models usually turn out to be very heavy.\n",
    "\n",
    "Another possible strategy is to chose a more flexible model. Let us, for instance,\n",
    "use an aluminum strip with section $20 \\times 11$mm. The flexural stiffness is:\n",
    "\n",
    "$$ EI = 71\\times 10^9 \\cdot \\frac{0.020 \\cdot 0.011^3}{12} = 157.5{\\rm Nm^2}$$\n",
    "\n",
    "The scale for flexural stiffness now is: \n",
    "\n",
    "$$ λ_{EI} = \\frac{157.5}{62.5 \\times 10^6} \\approx 1:396821 $$\n",
    "\n",
    "Now we set the new base:"
   ]
  },
  {
   "cell_type": "code",
   "execution_count": 11,
   "metadata": {},
   "outputs": [
    {
     "name": "stdout",
     "output_type": "stream",
     "text": [
      "    L  M  T\n",
      "L   1  0  0\n",
      "a   1  0 -2\n",
      "EI  3  1 -2\n"
     ]
    }
   ],
   "source": [
    "EIM    =  7.1e10*0.020*(0.015**3)/12\n",
    "\n",
    "ABC    = ['L', 'a', 'EI']          # selected quantities for the new base\n",
    "LMT    = ['L', 'M', 'T' ]          # dimensions are the last 3 columns of DimData\n",
    "base   =  DimData.loc[ABC, LMT]    # the dimensional matrix\n",
    "i_base =  np.linalg.inv(base)      # base inversion \n",
    "\n",
    "print(base)"
   ]
  },
  {
   "cell_type": "markdown",
   "metadata": {},
   "source": [
    "Repeating the whole calculation with the imposed scale for $EI$:"
   ]
  },
  {
   "cell_type": "code",
   "execution_count": 12,
   "metadata": {},
   "outputs": [
    {
     "name": "stdout",
     "output_type": "stream",
     "text": [
      "Force:                 λ_F  =  1:    1565 \n",
      "Distributed load:      λ_q  =  1:   156.5 \n",
      "Flexural stiffness:    λ_EI =  1:156495 \n",
      "Mass per unit length:  λ_μL =  1:   156.5 \n",
      "Density:               λ_ρ  =  1:     1.6\n"
     ]
    }
   ],
   "source": [
    "λ_L    =  1/10         # length scale for the reduced model\n",
    "λ_a    =  1/1          # acceleration remains unchanged (same gravity)\n",
    "λ_EI   =  EIM/EI       # imposed flexural stiffness scale\n",
    "\n",
    "scales =  np.tile([λ_L, λ_a, λ_EI],(npar,1))  # prepare for calculations\n",
    "\n",
    "NewMat =  pd.DataFrame(data    = np.matmul(DimMat.values, i_base),\n",
    "                       index   = DimMat.index,\n",
    "                       columns = ABC)\n",
    "\n",
    "[λ_F, λ_q, λ_EI, λ_μL, λ_ρ] = np.prod(scales**NewMat, axis=1);\n",
    "\n",
    "print('Force:                 λ_F  =  1:   {0:5.0f}'.format(1/λ_F),  '\\n'\n",
    "      'Distributed load:      λ_q  =  1:   {0:5.1f}'.format(1/λ_q),  '\\n'\n",
    "      'Flexural stiffness:    λ_EI =  1:{0:5.0f}'.format(1/λ_EI), '\\n'\n",
    "      'Mass per unit length:  λ_μL =  1:   {0:5.1f}'.format(1/λ_μL), '\\n'\n",
    "      'Density:               λ_ρ  =  1:   {0:5.1f}'.format(1/λ_ρ))"
   ]
  },
  {
   "cell_type": "markdown",
   "metadata": {},
   "source": [
    "Now we compare the self weights of (naked) aluminum bar with the model requirement:"
   ]
  },
  {
   "cell_type": "code",
   "execution_count": 13,
   "metadata": {},
   "outputs": [
    {
     "name": "stdout",
     "output_type": "stream",
     "text": [
      "Self weight of aluminum bar is 0.810kg/m\n",
      "Required model self weight is  1.598kg/m\n"
     ]
    }
   ],
   "source": [
    "μL  = 2700*0.020*0.015\n",
    "μLM = λ_μL * 250\n",
    "\n",
    "print('Self weight of aluminum bar is {0:5.3f}kg/m'.format(μL))\n",
    "print('Required model self weight is  {0:5.3f}kg/m'.format(μLM))"
   ]
  },
  {
   "cell_type": "markdown",
   "metadata": {},
   "source": [
    "This new modelling strategy leads to a model that needs quite a small amount of \n",
    "additional mass to be attached. Let us take a final look at the expected displacement:"
   ]
  },
  {
   "cell_type": "code",
   "execution_count": 14,
   "metadata": {},
   "outputs": [
    {
     "name": "stdout",
     "output_type": "stream",
     "text": [
      "Expected model displacement at beam center is 0.511mm\n"
     ]
    }
   ],
   "source": [
    "w_max = (5/384)*μLM*g*(1.0**4)/EIM; \n",
    "\n",
    "print('Expected model displacement at beam center is {0:5.3f}mm'.format(1000*w_max))"
   ]
  },
  {
   "cell_type": "markdown",
   "metadata": {},
   "source": [
    "This is the expected result, but now with a much more economical model."
   ]
  },
  {
   "cell_type": "markdown",
   "metadata": {},
   "source": [
    "### 2.3. Example: cable catenary  <a name=\"section_23\"></a> \n",
    "\n",
    "A forma da catenária de um cabo sujeito ao peso próprio, $w = \\mu g$, \n",
    "onde $\\mu$ é a massa por unidade de comprimento e $g$ é a aceleração da gravidade) \n",
    "pode ser aproximada por uma função parabólica. As fórmulas são:\n",
    "\n",
    "1. $y(x) = \\mu g x^2 / (2H)$, é a forma aproximada,\n",
    "2. $D = \\mu g S^2 / (8H)$, é a pendente (sag) no centro do vão,\n",
    "3. $L = S + 8 D^2 /(3S)$, é o comprimento total do cabo, e\n",
    "4. $T = H + wD$, é a tração axial nas extremidades.\n",
    "\n",
    "<img src=\"resources/sag_tension.png\" alt=\"sag_tension\" width=\"480px\"/>\n",
    "\n",
    "Nestas equações, $H$ é a tração axial no centro do vão e $S$ é o vão entre apoios. \n",
    "A relação $a = H/W$ é geralmente chamada de constante da catenária. \n",
    "A tração média pode ser aproximada por $\\bar{T} = (T+H)/2$, embora os valores de \n",
    "$T$ e $H$ sejam, em geral, muito próximos.\n",
    "Proponha números $\\Pi$ para o problema (Teorema de Vaschy-Buckingham) e \n",
    "reescreva as fórmulas acima para que se tornem relações adimensionais. \n",
    "\n",
    "Now we define problem quantities, specifying the tension and calculating the sag\n",
    "such that it can be easily measured in the model."
   ]
  },
  {
   "cell_type": "code",
   "execution_count": 15,
   "metadata": {},
   "outputs": [
    {
     "name": "stdout",
     "output_type": "stream",
     "text": [
      "Mass per unit length:    3.98kg/m.\n",
      "Axial stiffness:       103875kN.\n",
      "Sag at center:           9.76m.\n"
     ]
    }
   ],
   "source": [
    "g   =  9.81                         # local gravity (m/s^2)\n",
    "S   =  100.                         # total spam (m)\n",
    "H   =  5000.                        # cable tension at center (N)\n",
    "A   =  np.pi*(0.0127**2)            # cross section nominal area (m^2)\n",
    "Es  =  2.05e11                      # Young's modulus for steel (Pa)\n",
    "ρs  =  7850.                        # density for steel (kg/m^3)\n",
    "\n",
    "μL  =  ρs*A                         # mass per unit length (kg/m)\n",
    "EA  =  Es*A                         # axial stiffness\n",
    "D   =  μL*g*(S**2)/(8*H)            # cable sag (m)\n",
    "\n",
    "print('Mass per unit length: {0:7.2f}kg/m.'.format(μL))\n",
    "print('Axial stiffness:      {0:7.0f}kN.'.format(EA/1000))\n",
    "print('Sag at center:        {0:7.2f}m.'.format(D))"
   ]
  },
  {
   "cell_type": "markdown",
   "metadata": {},
   "source": [
    "The new base will be length, acceleration and density. This is an convenient approach\n",
    "for keeping the same gravity and designing the model to be tested in a wind tunnel."
   ]
  },
  {
   "cell_type": "code",
   "execution_count": 16,
   "metadata": {},
   "outputs": [
    {
     "name": "stdout",
     "output_type": "stream",
     "text": [
      "   L  M  T\n",
      "L  1  0  0\n",
      "a  1  0 -2\n",
      "ρ -3  1  0\n"
     ]
    }
   ],
   "source": [
    "ABC    = ['L', 'a', 'ρ']         # selected quantities for the new base\n",
    "LMT    = ['L', 'M', 'T' ]        # dimensions are the last 3 columns of DimData\n",
    "base   =  DimData.loc[ABC, LMT]  # the dimensional matrix\n",
    "i_base =  np.linalg.inv(base)    # base inversion \n",
    "\n",
    "λ_L    =  1/100                  # length scale for the reduced model\n",
    "λ_a    =  1/1                    # acceleration remains unchanged (same gravity)\n",
    "λ_ρ    =  1/1                    # imposed density (same fluid... air!)\n",
    "\n",
    "print(base)"
   ]
  },
  {
   "cell_type": "markdown",
   "metadata": {},
   "source": [
    "Let us calculate the scales for force, mass per unit length and time. \n",
    "Recall that he axial stiffness, $EA$, has the same scale as force."
   ]
  },
  {
   "cell_type": "code",
   "execution_count": 17,
   "metadata": {},
   "outputs": [
    {
     "name": "stdout",
     "output_type": "stream",
     "text": [
      "    L  M  T\n",
      "F   1  1 -2\n",
      "μL -1  1  0\n",
      "t   0  0  1\n"
     ]
    }
   ],
   "source": [
    "par    = ['F', 'μL', 't']                    # selected scales to be calculated\n",
    "npar   =  len(par)                           # number of quantities\n",
    "DimMat =  DimData.loc[par, LMT]              # the dimensional matrix\n",
    "scales =  np.tile([λ_L, λ_a, λ_ρ],(npar,1))  # prepare for calculations\n",
    "\n",
    "print(DimMat)"
   ]
  },
  {
   "cell_type": "markdown",
   "metadata": {},
   "source": [
    "And finally the required scales are calculated."
   ]
  },
  {
   "cell_type": "code",
   "execution_count": 18,
   "metadata": {},
   "outputs": [
    {
     "name": "stdout",
     "output_type": "stream",
     "text": [
      "Force (and axial stiffnees): λ_F  = 1:1000000\n",
      "Mass per unit length:        λ_μL = 1:  10000\n",
      "Time:                        λ_t  = 1:     10\n"
     ]
    }
   ],
   "source": [
    "NewMat = pd.DataFrame(data    = np.matmul(DimMat.values, i_base),\n",
    "                      index   = DimMat.index,\n",
    "                      columns = ABC)\n",
    "\n",
    "[λ_F, λ_μL, λ_t]  = np.prod(scales**NewMat, axis=1);\n",
    "\n",
    "print('Force (and axial stiffnees): λ_F  = 1:{0:7.0f}'.format(1/λ_F))\n",
    "print('Mass per unit length:        λ_μL = 1:{0:7.0f}'.format(1/λ_μL))\n",
    "print('Time:                        λ_t  = 1:{0:7.0f}'.format(1/λ_t))"
   ]
  },
  {
   "cell_type": "markdown",
   "metadata": {},
   "source": [
    "The model mass per unit length must be:"
   ]
  },
  {
   "cell_type": "code",
   "execution_count": 19,
   "metadata": {},
   "outputs": [
    {
     "name": "stdout",
     "output_type": "stream",
     "text": [
      "Model mass per unit length:  0.398g/m.\n"
     ]
    }
   ],
   "source": [
    "μLM = λ_μL*μL\n",
    "\n",
    "print('Model mass per unit length: {0:6.3f}g/m.'.format(1000*μLM))"
   ]
  },
  {
   "cell_type": "markdown",
   "metadata": {},
   "source": [
    "If we take a nylon line, with Young's modulus $E = 3{\\rm GPa}$ and \n",
    "density $\\rho = 1150{\\rm kg/m^3}$,  the required diameter will be:"
   ]
  },
  {
   "cell_type": "code",
   "execution_count": 20,
   "metadata": {},
   "outputs": [
    {
     "name": "stdout",
     "output_type": "stream",
     "text": [
      "Nylon line diameter must be: 0.210mm.\n",
      "Nylon line self weight is:   0.040g/m.\n"
     ]
    }
   ],
   "source": [
    "Eny = 3.00e9                    # nylon Young's modulus\n",
    "ρny = 1150.0                    # nylon density\n",
    "\n",
    "EAM = λ_F*EA\n",
    "dM  = 2*np.sqrt((EAM/Eny)/np.pi)\n",
    "AM  = np.pi*(dM/2)**2\n",
    "μLM = ρny*AM \n",
    "\n",
    "print('Nylon line diameter must be: {0:5.3f}mm.'.format(1000*dM))\n",
    "print('Nylon line self weight is:   {0:5.3f}g/m.'.format(1000*μLM))"
   ]
  },
  {
   "cell_type": "markdown",
   "metadata": {},
   "source": [
    "The nylon line self weight is not enough and the model mass per unit length may be\n",
    "completed with lead fishing beads. \n",
    "On the other hand, the cable axial deformation may be neglected and $EA$ regarded as \n",
    "infinity. In this case, any thin line with very small bending stiffness \n",
    "could be used, as long as the model mass is respected.\n",
    "\n",
    "Finally, if the cable tension is to be measured, any load cell must be able\n",
    "to measure a force as small as:"
   ]
  },
  {
   "cell_type": "code",
   "execution_count": 21,
   "metadata": {},
   "outputs": [
    {
     "name": "stdout",
     "output_type": "stream",
     "text": [
      "Force balance in the range of... 0.0050N.\n"
     ]
    }
   ],
   "source": [
    "HM = λ_F*H\n",
    "\n",
    "print('Force balance in the range of... {0:6.4f}N.'.format(HM))"
   ]
  },
  {
   "cell_type": "markdown",
   "metadata": {},
   "source": [
    "### 2.4. Assignment  <a name=\"section_24\"></a> \n",
    "\n",
    "1. Defina um sistema estrutural simples, cuja resposta a uma dada carga possa ser calculada por uma fórmula teórica.\n",
    "2. Imagine um modelo reduzido para este sistema estrutural, escolha as grandezas que formarão a base dimensional, projete o modelo e calcule a resposta esperada no experimento.\n"
   ]
  },
  {
   "cell_type": "code",
   "execution_count": null,
   "metadata": {},
   "outputs": [],
   "source": []
  }
 ],
 "metadata": {
  "kernelspec": {
   "display_name": "Python 3",
   "language": "python",
   "name": "python3"
  },
  "language_info": {
   "codemirror_mode": {
    "name": "ipython",
    "version": 3
   },
   "file_extension": ".py",
   "mimetype": "text/x-python",
   "name": "python",
   "nbconvert_exporter": "python",
   "pygments_lexer": "ipython3",
   "version": "3.8.3"
  }
 },
 "nbformat": 4,
 "nbformat_minor": 2
}
