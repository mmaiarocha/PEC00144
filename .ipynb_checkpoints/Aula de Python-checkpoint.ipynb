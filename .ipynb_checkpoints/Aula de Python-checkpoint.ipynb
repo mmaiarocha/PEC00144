{
 "cells": [
  {
   "cell_type": "markdown",
   "metadata": {},
   "source": [
    "## Aula de Python\n",
    "_Novo Hamburgo, 30 de setembro de 2021_\n",
    "\n",
    "Bem vindos ao Python!\n",
    "Esta codificação das células tipo \"markdown\" é do tipo \"markdown\", que é um html simplificado.\n",
    "Mas o html também é aceito!!!\n",
    "\n",
    "A cereja do bolo é a possibilidade de escrever equações ou texto com $\\LaTeX$!!!\n",
    "\n",
    "$$ a = b + c $$\n",
    "\n",
    "onde $a$ é o resultado, e $b$ e $c$ são os dados.\n"
   ]
  },
  {
   "cell_type": "code",
   "execution_count": null,
   "metadata": {},
   "outputs": [],
   "source": []
  }
 ],
 "metadata": {
  "kernelspec": {
   "display_name": "Python 3",
   "language": "python",
   "name": "python3"
  },
  "language_info": {
   "codemirror_mode": {
    "name": "ipython",
    "version": 3
   },
   "file_extension": ".py",
   "mimetype": "text/x-python",
   "name": "python",
   "nbconvert_exporter": "python",
   "pygments_lexer": "ipython3",
   "version": "3.8.3"
  }
 },
 "nbformat": 4,
 "nbformat_minor": 4
}
