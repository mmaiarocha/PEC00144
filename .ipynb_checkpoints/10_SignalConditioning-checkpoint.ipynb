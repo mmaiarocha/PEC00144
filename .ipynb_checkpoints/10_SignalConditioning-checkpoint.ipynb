{
 "cells": [
  {
   "cell_type": "markdown",
   "metadata": {},
   "source": [
    "Universidade Federal do Rio Grande do Sul (UFRGS)   \n",
    "Programa de Pós-Graduação em Engenharia Civil (PPGEC)   \n",
    "\n",
    "# PEC00144: Experimental Methods in Civil Engineering\n",
    "\n",
    "\n",
    "### Part II: Instrumentation\n",
    "[10.  Signal conditioning](#section_10)  \n",
    "\n",
    "&nbsp;&nbsp;&nbsp;[10.1. Operational amplifiers](#section_101)     \n",
    "&nbsp;&nbsp;&nbsp;[10.2. Instrumentation amplifiers](#section_102)     \n",
    "&nbsp;&nbsp;&nbsp;[10.3. Active electronic filtering](#section_103)   \n",
    "\n",
    "---\n",
    "_Prof. Marcelo M. Rocha, Dr.techn._ [(ORCID)](https://orcid.org/0000-0001-5640-1020)  \n",
    "_Porto Alegre, RS, Brazil_ \n"
   ]
  },
  {
   "cell_type": "code",
   "execution_count": 21,
   "metadata": {},
   "outputs": [],
   "source": [
    "# Importing Python modules required for this notebook\n",
    "# (this cell must be executed with \"shift+enter\" before any other Python cell)\n",
    "\n",
    "import numpy as np\n",
    "import pandas as pd\n",
    "import matplotlib.pyplot as plt\n",
    "from   MRPy import MRPy\n"
   ]
  },
  {
   "cell_type": "markdown",
   "metadata": {},
   "source": [
    "## 10. Signal conditioning  <a name=\"section_10\"></a> \n",
    "\n",
    "### 10.1. Operational amplifiers  (OpAmp)<a name=\"section_101\"></a> \n",
    "\n",
    "<img src=\"resources/OpAmp_symbol.png\" alt=\"Operational amplifiers\" width=\"240px\"/>\n",
    "\n",
    "<img src=\"resources/TL072.png\" alt=\"Operational amplifiers\" width=\"480px\"/>\n",
    "\n",
    "<img src=\"resources/OpAmp_configs.png\" alt=\"OpAmp configurations\" width=\"720px\"/>\n",
    "\n",
    "[TL072 Datasheet](\"resources/TL072_datasheet.pdf\")\n"
   ]
  },
  {
   "cell_type": "markdown",
   "metadata": {},
   "source": [
    "### 10.2. Instrumentation amplifiers <a name=\"section_102\"></a> \n",
    "\n",
    "<img src=\"resources/INA118_photo.jpg\" alt=\"INA118 photo\" width=\"240px\"/>\n",
    "\n",
    "<img src=\"resources/INA118_connections.png\" alt=\"INA118 connections\" width=\"720px\"/>\n",
    "\n",
    "<img src=\"resources/INA118_config.png\" alt=\"INA118 configuration\" width=\"640px\"/>\n",
    "\n",
    "<img src=\"resources/INA118_response.png\" alt=\"INA118 frequency response\" width=\"480px\"/>\n"
   ]
  },
  {
   "cell_type": "markdown",
   "metadata": {},
   "source": [
    "### 10.3. Active electronic filtering <a name=\"section_103\"></a> \n"
   ]
  }
 ],
 "metadata": {
  "kernelspec": {
   "display_name": "Python 3 (ipykernel)",
   "language": "python",
   "name": "python3"
  },
  "language_info": {
   "codemirror_mode": {
    "name": "ipython",
    "version": 3
   },
   "file_extension": ".py",
   "mimetype": "text/x-python",
   "name": "python",
   "nbconvert_exporter": "python",
   "pygments_lexer": "ipython3",
   "version": "3.10.9"
  }
 },
 "nbformat": 4,
 "nbformat_minor": 2
}
