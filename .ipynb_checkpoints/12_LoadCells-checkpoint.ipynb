{
 "cells": [
  {
   "cell_type": "markdown",
   "metadata": {},
   "source": [
    "Universidade Federal do Rio Grande do Sul (UFRGS)   \n",
    "Programa de Pós-Graduação em Engenharia Civil (PPGEC)   \n",
    "\n",
    "# PEC00144: Experimental Methods in Civil Engineering\n",
    "\n",
    "\n",
    "### Part II: Instrumentation\n",
    "[12.  Strain gages and load cells](#section_12)  \n",
    "\n",
    "&nbsp;&nbsp;&nbsp;[12.1. Strain gage principles](#section_121)     \n",
    "&nbsp;&nbsp;&nbsp;[12.2. Wheatstone bridge configuration](#section_122)     \n",
    "&nbsp;&nbsp;&nbsp;[12.3. Strain gage installation](#section_123)     \n",
    "&nbsp;&nbsp;&nbsp;[12.4. Load cell design](#section_124)   \n",
    "&nbsp;&nbsp;&nbsp;[12.5. Bridge signal conditioning](#section_125)   \n",
    "\n",
    "---\n",
    "_Prof. Marcelo M. Rocha, Dr.techn._ [(ORCID)](https://orcid.org/0000-0001-5640-1020)  \n",
    "_Porto Alegre, RS, Brazil_ \n"
   ]
  },
  {
   "cell_type": "markdown",
   "metadata": {},
   "source": [
    "## 12. Strain gages and load cells  <a name=\"section_12\"></a> \n",
    "\n",
    "### 12.1. Strain gage principles <a name=\"section_121\"></a> \n",
    "\n",
    "<img src=\"resources/StrainGage_principle.png\" alt=\"Strain gage principle\" width=\"720px\"/>\n",
    "\n",
    "<table><tr>\n",
    "<td> <img src=\"resources/StrainGage_photo.jpg\"  alt=\"Strain gage sensor\" width=\"360px\"/> </td>\n",
    "<td> <img src=\"resources/StrainGage_sensor.png\" alt=\"Strain gage sensor\" width=\"240px\"/> </td>\n",
    "</tr></table>\n",
    "\n",
    "The gage equation is:\n",
    "\n",
    "$$ \\frac{\\Delta R}{R} = K\\varepsilon $$\n",
    "\n",
    "where $R$ is the gage resistance (usually 120 or 350Ω), $K$ is the gage factor\n",
    "(approximatelly 2.1 for comercial foil gages) and $\\varepsilon$ is the local strain.\n"
   ]
  },
  {
   "cell_type": "code",
   "execution_count": 1,
   "metadata": {},
   "outputs": [
    {
     "name": "stdout",
     "output_type": "stream",
     "text": [
      "1.344000000000051\n"
     ]
    }
   ],
   "source": [
    "R = 350.\n",
    "K = 2.1\n",
    "e = 1/1000.\n",
    "\n",
    "DR = R*K*e\n",
    "\n",
    "VA = 5*(350 + DR)/(2*R)\n",
    "VB = 5*(350 - DR)/(2*R)\n",
    "\n",
    "G = 128\n",
    "print(G*(VA - VB))\n"
   ]
  },
  {
   "cell_type": "markdown",
   "metadata": {},
   "source": [
    "### 12.2. Wheatstone bridge configuration <a name=\"section_122\"></a> \n",
    "\n",
    "A Wheatstone bridge can be seen as a double voltage divider.\n",
    "The resistors can be replaced by strain gages as shown below:\n",
    "\n",
    "<table><tr>\n",
    "<td> <img src=\"resources/StrainGage_quarterbridge.jpg\" alt=\"Quarter bridge\" width=\"400px\"/> </td>\n",
    "<td> <img src=\"resources/StrainGage_halfbridge.jpg\"    alt=\"Half bridge\"    width=\"400px\"/> </td>\n",
    "</tr></table>\n",
    "\n",
    "<img src=\"resources/StrainGage_fullbridge.jpg\"    alt=\"Full bridge\"    width=\"540px\"/> \n",
    "\n",
    "For the full bridge with four strain gages the voltage difference, $\\Delta V = V_2 - V_1$, \n",
    "between the central nodes are given by:\n",
    "\n",
    "$$ \\Delta V = \\frac{1}{4}\\left( \n",
    "                         \\frac{\\Delta R_A}{R_A} + \\frac{\\Delta R_B}{R_B} +\n",
    "                         \\frac{\\Delta R_C}{R_C} + \\frac{\\Delta R_D}{R_D}\n",
    "                         \\right) V_{\\rm in} $$\n",
    "\n",
    "To maximize this difference, variations $\\Delta R_A$ and $\\Delta R_C$ must \n",
    "opose the variations $\\Delta R_B$ and $\\Delta R_D$. In the best case, with all\n",
    "gages subjected to the same strain and with oposition ensured, we get:\n",
    "\n",
    "$$ \\Delta V = K \\varepsilon V_{\\rm in} $$\n"
   ]
  },
  {
   "cell_type": "markdown",
   "metadata": {},
   "source": [
    "### 12.3. Strain gage installation\n",
    "\n",
    "[A nice video showing how to glue a strain gage in place!](https://www.youtube.com/watch?v=7DXERPk_164)\n"
   ]
  },
  {
   "cell_type": "markdown",
   "metadata": {},
   "source": [
    "### 12.4. Load cell design\n",
    "\n",
    "<img src=\"resources/RingCell_Excel.png\"    alt=\"Ring cell design\"    width=\"720px\"/>\n",
    "\n"
   ]
  },
  {
   "cell_type": "code",
   "execution_count": null,
   "metadata": {},
   "outputs": [],
   "source": []
  }
 ],
 "metadata": {
  "kernelspec": {
   "display_name": "Python 3 (ipykernel)",
   "language": "python",
   "name": "python3"
  },
  "language_info": {
   "codemirror_mode": {
    "name": "ipython",
    "version": 3
   },
   "file_extension": ".py",
   "mimetype": "text/x-python",
   "name": "python",
   "nbconvert_exporter": "python",
   "pygments_lexer": "ipython3",
   "version": "3.10.9"
  }
 },
 "nbformat": 4,
 "nbformat_minor": 2
}
